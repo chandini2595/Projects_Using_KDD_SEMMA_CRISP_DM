{
  "nbformat": 4,
  "nbformat_minor": 0,
  "metadata": {
    "colab": {
      "provenance": [],
      "authorship_tag": "ABX9TyM2gb8vfOINqfMj46v+u5aM",
      "include_colab_link": true
    },
    "kernelspec": {
      "name": "python3",
      "display_name": "Python 3"
    },
    "language_info": {
      "name": "python"
    }
  },
  "cells": [
    {
      "cell_type": "markdown",
      "metadata": {
        "id": "view-in-github",
        "colab_type": "text"
      },
      "source": [
        "<a href=\"https://colab.research.google.com/github/chandini2595/Projects_Using_KDD_SEMMA_CRISP_DM/blob/main/Customer_Churn_Prediction_KDD.ipynb\" target=\"_parent\"><img src=\"https://colab.research.google.com/assets/colab-badge.svg\" alt=\"Open In Colab\"/></a>"
      ]
    },
    {
      "cell_type": "code",
      "execution_count": 3,
      "metadata": {
        "colab": {
          "base_uri": "https://localhost:8080/"
        },
        "id": "-8yxM11JZlfH",
        "outputId": "84feca0f-dee4-4111-acc8-45d6f573b3e8"
      },
      "outputs": [
        {
          "output_type": "stream",
          "name": "stdout",
          "text": [
            "   CustomerID Region CustomerType  ContractLength  MonthlyPurchaseVolume  \\\n",
            "0           1   East       Retail              28            4835.676063   \n",
            "1           2   West  Distributor               5            4093.981588   \n",
            "2           3  North    Wholesale              13            6326.910185   \n",
            "3           4   East    Wholesale              17            3621.229792   \n",
            "4           5   East    Wholesale              32            3334.400724   \n",
            "\n",
            "   DiscountsProvided  CustomerComplaints  Churn  \n",
            "0                  0                   6      1  \n",
            "1                  1                   9      0  \n",
            "2                  1                   7      1  \n",
            "3                  0                   5      0  \n",
            "4                  0                   9      0  \n"
          ]
        }
      ],
      "source": [
        "import pandas as pd\n",
        "import numpy as np\n",
        "\n",
        "# Number of samples (rows)\n",
        "n_samples = 1000\n",
        "\n",
        "# Setting random seed for reproducibility\n",
        "np.random.seed(42)\n",
        "\n",
        "# Generate synthetic data for each column\n",
        "CustomerID = np.arange(1, n_samples + 1)\n",
        "Region = np.random.choice(['North', 'South', 'East', 'West'], n_samples)\n",
        "CustomerType = np.random.choice(['Wholesale', 'Retail', 'Distributor'], n_samples)\n",
        "ContractLength = np.random.randint(1, 36, n_samples)  # Contract in months\n",
        "MonthlyPurchaseVolume = np.random.normal(5000, 1500, n_samples)  # Volume in barrels\n",
        "DiscountsProvided = np.random.choice([0, 1], n_samples)\n",
        "CustomerComplaints = np.random.randint(0, 10, n_samples)\n",
        "\n",
        "# Generate target variable 'Churn' with a slight bias towards not churning\n",
        "Churn = np.random.choice([0, 1], p=[0.7, 0.3], size=n_samples)\n",
        "\n",
        "# Create a DataFrame\n",
        "churn_data = pd.DataFrame({\n",
        "    'CustomerID': CustomerID,\n",
        "    'Region': Region,\n",
        "    'CustomerType': CustomerType,\n",
        "    'ContractLength': ContractLength,\n",
        "    'MonthlyPurchaseVolume': MonthlyPurchaseVolume,\n",
        "    'DiscountsProvided': DiscountsProvided,\n",
        "    'CustomerComplaints': CustomerComplaints,\n",
        "    'Churn': Churn\n",
        "})\n",
        "\n",
        "print(churn_data.head())\n"
      ]
    },
    {
      "cell_type": "code",
      "source": [
        "print(churn_data.isnull().sum())"
      ],
      "metadata": {
        "colab": {
          "base_uri": "https://localhost:8080/"
        },
        "id": "wKPWudWid-pn",
        "outputId": "c1708feb-bfa7-4756-a7a6-01e68c9a95af"
      },
      "execution_count": 4,
      "outputs": [
        {
          "output_type": "stream",
          "name": "stdout",
          "text": [
            "CustomerID               0\n",
            "Region                   0\n",
            "CustomerType             0\n",
            "ContractLength           0\n",
            "MonthlyPurchaseVolume    0\n",
            "DiscountsProvided        0\n",
            "CustomerComplaints       0\n",
            "Churn                    0\n",
            "dtype: int64\n"
          ]
        }
      ]
    },
    {
      "cell_type": "code",
      "source": [
        "churn_data.fillna({\n",
        "    'ContractLength': churn_data['ContractLength'].median(),\n",
        "    'MonthlyPurchaseVolume': churn_data['MonthlyPurchaseVolume'].median(),\n",
        "    'Region': churn_data['Region'].mode()[0],\n",
        "    'CustomerType': churn_data['CustomerType'].mode()[0],\n",
        "    'DiscountsProvided': churn_data['DiscountsProvided'].mode()[0],\n",
        "    'CustomerComplaints': churn_data['CustomerComplaints'].median()\n",
        "}, inplace=True)"
      ],
      "metadata": {
        "id": "Jq8jZmuXeHb4"
      },
      "execution_count": 8,
      "outputs": []
    },
    {
      "cell_type": "code",
      "source": [
        "# One-hot encoding for Region and CustomerType\n",
        "churn_data_encoded = pd.get_dummies(churn_data, columns=['Region', 'CustomerType'], drop_first=True)\n",
        "\n",
        "# Display the encoded dataset\n",
        "print(churn_data_encoded.head())"
      ],
      "metadata": {
        "colab": {
          "base_uri": "https://localhost:8080/"
        },
        "id": "o12NYd4tfY6i",
        "outputId": "501ca45b-37b6-4469-8316-91e6b60f1c84"
      },
      "execution_count": 11,
      "outputs": [
        {
          "output_type": "stream",
          "name": "stdout",
          "text": [
            "   CustomerID  ContractLength  MonthlyPurchaseVolume  DiscountsProvided  \\\n",
            "0           1              28            4835.676063                  0   \n",
            "1           2               5            4093.981588                  1   \n",
            "2           3              13            6326.910185                  1   \n",
            "3           4              17            3621.229792                  0   \n",
            "4           5              32            3334.400724                  0   \n",
            "\n",
            "   CustomerComplaints  Churn  Region_North  Region_South  Region_West  \\\n",
            "0                   6      1         False         False        False   \n",
            "1                   9      0         False         False         True   \n",
            "2                   7      1          True         False        False   \n",
            "3                   5      0         False         False        False   \n",
            "4                   9      0         False         False        False   \n",
            "\n",
            "   CustomerType_Retail  CustomerType_Wholesale  \n",
            "0                 True                   False  \n",
            "1                False                   False  \n",
            "2                False                    True  \n",
            "3                False                    True  \n",
            "4                False                    True  \n"
          ]
        }
      ]
    },
    {
      "cell_type": "code",
      "source": [
        "from sklearn.preprocessing import StandardScaler\n",
        "\n",
        "# Selecting numerical columns for scaling\n",
        "numerical_cols = ['ContractLength', 'MonthlyPurchaseVolume', 'CustomerComplaints']\n",
        "\n",
        "# Initialize the scaler\n",
        "scaler = StandardScaler()\n",
        "\n",
        "# Scale the numerical columns\n",
        "churn_data_encoded[numerical_cols] = scaler.fit_transform(churn_data_encoded[numerical_cols])\n",
        "\n",
        "print(churn_data_encoded.head())"
      ],
      "metadata": {
        "colab": {
          "base_uri": "https://localhost:8080/"
        },
        "id": "3KseoC25gEx7",
        "outputId": "09b35716-46a1-4a39-df32-abc54f805efa"
      },
      "execution_count": 13,
      "outputs": [
        {
          "output_type": "stream",
          "name": "stdout",
          "text": [
            "   CustomerID  ContractLength  MonthlyPurchaseVolume  DiscountsProvided  \\\n",
            "0           1        0.983055              -0.088350                  0   \n",
            "1           2       -1.314736              -0.588406                  1   \n",
            "2           3       -0.515504               0.917051                  1   \n",
            "3           4       -0.115889              -0.907138                  0   \n",
            "4           5        1.382671              -1.100521                  0   \n",
            "\n",
            "   CustomerComplaints  Churn  Region_North  Region_South  Region_West  \\\n",
            "0            0.485579      1         False         False        False   \n",
            "1            1.545023      0         False         False         True   \n",
            "2            0.838727      1          True         False        False   \n",
            "3            0.132431      0         False         False        False   \n",
            "4            1.545023      0         False         False        False   \n",
            "\n",
            "   CustomerType_Retail  CustomerType_Wholesale  \n",
            "0                 True                   False  \n",
            "1                False                   False  \n",
            "2                False                    True  \n",
            "3                False                    True  \n",
            "4                False                    True  \n"
          ]
        }
      ]
    },
    {
      "cell_type": "code",
      "source": [
        "from sklearn.model_selection import train_test_split\n",
        "\n",
        "# Separate features and target variable\n",
        "X = churn_data_encoded.drop('Churn', axis=1)\n",
        "y = churn_data_encoded['Churn']\n",
        "\n",
        "# Perform train-test split\n",
        "X_train, X_test, y_train, y_test = train_test_split(X, y, test_size=0.2, random_state=42)\n",
        "\n",
        "print(f\"Training data shape: {X_train.shape}\")\n",
        "print(f\"Testing data shape: {X_test.shape}\")\n"
      ],
      "metadata": {
        "colab": {
          "base_uri": "https://localhost:8080/"
        },
        "id": "PVHpfsj0gYyY",
        "outputId": "a3d9610f-c3e3-4d1b-8f6d-b60048e9bf01"
      },
      "execution_count": 14,
      "outputs": [
        {
          "output_type": "stream",
          "name": "stdout",
          "text": [
            "Training data shape: (800, 10)\n",
            "Testing data shape: (200, 10)\n"
          ]
        }
      ]
    },
    {
      "cell_type": "code",
      "source": [
        "# Create a new feature: Average Purchase Volume per Contract Month\n",
        "churn_data_encoded['AvgPurchasePerMonth'] = churn_data_encoded['MonthlyPurchaseVolume'] / (churn_data_encoded['ContractLength'] + 1)\n",
        "\n",
        "# Display the dataset with the new feature\n",
        "print(churn_data_encoded.head())\n"
      ],
      "metadata": {
        "colab": {
          "base_uri": "https://localhost:8080/"
        },
        "id": "PwrpOVudgvDu",
        "outputId": "6ca248cb-a1af-451a-d663-70a2f719b05b"
      },
      "execution_count": 15,
      "outputs": [
        {
          "output_type": "stream",
          "name": "stdout",
          "text": [
            "   CustomerID  ContractLength  MonthlyPurchaseVolume  DiscountsProvided  \\\n",
            "0           1        0.983055              -0.088350                  0   \n",
            "1           2       -1.314736              -0.588406                  1   \n",
            "2           3       -0.515504               0.917051                  1   \n",
            "3           4       -0.115889              -0.907138                  0   \n",
            "4           5        1.382671              -1.100521                  0   \n",
            "\n",
            "   CustomerComplaints  Churn  Region_North  Region_South  Region_West  \\\n",
            "0            0.485579      1         False         False        False   \n",
            "1            1.545023      0         False         False         True   \n",
            "2            0.838727      1          True         False        False   \n",
            "3            0.132431      0         False         False        False   \n",
            "4            1.545023      0         False         False        False   \n",
            "\n",
            "   CustomerType_Retail  CustomerType_Wholesale  AvgPurchasePerMonth  \n",
            "0                 True                   False            -0.044552  \n",
            "1                False                   False             1.869522  \n",
            "2                False                    True             1.892796  \n",
            "3                False                    True            -1.026045  \n",
            "4                False                    True            -0.461885  \n"
          ]
        }
      ]
    },
    {
      "cell_type": "code",
      "source": [
        "# Binning MonthlyPurchaseVolume into Low, Medium, and High\n",
        "churn_data_encoded['PurchaseVolumeCategory'] = pd.cut(churn_data_encoded['MonthlyPurchaseVolume'], bins=[0, 3000, 6000, np.inf], labels=['Low', 'Medium', 'High'])\n",
        "\n",
        "# Display the dataset with the new binned feature\n",
        "print(churn_data_encoded[['MonthlyPurchaseVolume', 'PurchaseVolumeCategory']].head())\n"
      ],
      "metadata": {
        "colab": {
          "base_uri": "https://localhost:8080/"
        },
        "id": "6KHQuImjhDUW",
        "outputId": "dcad4de2-55bc-42bb-f7ea-13f9909f8206"
      },
      "execution_count": 16,
      "outputs": [
        {
          "output_type": "stream",
          "name": "stdout",
          "text": [
            "   MonthlyPurchaseVolume PurchaseVolumeCategory\n",
            "0              -0.088350                    NaN\n",
            "1              -0.588406                    NaN\n",
            "2               0.917051                    Low\n",
            "3              -0.907138                    NaN\n",
            "4              -1.100521                    NaN\n"
          ]
        }
      ]
    },
    {
      "cell_type": "code",
      "source": [
        "# First, check if there are any remaining non-numeric columns\n",
        "print(churn_data_encoded.dtypes)\n",
        "\n",
        "# Drop non-numeric columns (like 'PurchaseVolumeCategory') before applying PCA\n",
        "churn_data_for_pca = churn_data_encoded.drop(columns=['PurchaseVolumeCategory'], errors='ignore')\n",
        "\n",
        "# Verify if all columns are numeric\n",
        "print(churn_data_for_pca.dtypes)\n",
        "\n",
        "# Apply PCA to the numeric data (excluding the target 'Churn')\n",
        "X_pca = pca.fit_transform(churn_data_for_pca.drop('Churn', axis=1))\n",
        "\n",
        "# Create a DataFrame with PCA components\n",
        "pca_df = pd.DataFrame(X_pca, columns=['PCA1', 'PCA2'])\n",
        "\n",
        "# Display the first few rows of the PCA-transformed data\n",
        "print(pca_df.head())"
      ],
      "metadata": {
        "colab": {
          "base_uri": "https://localhost:8080/"
        },
        "id": "SwL-b3KWhGr_",
        "outputId": "e399d425-312d-4e03-c48c-6bb7a968f637"
      },
      "execution_count": 18,
      "outputs": [
        {
          "output_type": "stream",
          "name": "stdout",
          "text": [
            "CustomerID                   int64\n",
            "ContractLength             float64\n",
            "MonthlyPurchaseVolume      float64\n",
            "DiscountsProvided            int64\n",
            "CustomerComplaints         float64\n",
            "Churn                        int64\n",
            "Region_North                  bool\n",
            "Region_South                  bool\n",
            "Region_West                   bool\n",
            "CustomerType_Retail           bool\n",
            "CustomerType_Wholesale        bool\n",
            "AvgPurchasePerMonth        float64\n",
            "PurchaseVolumeCategory    category\n",
            "dtype: object\n",
            "CustomerID                  int64\n",
            "ContractLength            float64\n",
            "MonthlyPurchaseVolume     float64\n",
            "DiscountsProvided           int64\n",
            "CustomerComplaints        float64\n",
            "Churn                       int64\n",
            "Region_North                 bool\n",
            "Region_South                 bool\n",
            "Region_West                  bool\n",
            "CustomerType_Retail          bool\n",
            "CustomerType_Wholesale       bool\n",
            "AvgPurchasePerMonth       float64\n",
            "dtype: object\n",
            "         PCA1      PCA2\n",
            "0 -499.500061 -0.313795\n",
            "1 -498.499771  1.601405\n",
            "2 -497.499855  1.611708\n",
            "3 -496.499977 -1.281937\n",
            "4 -495.499946 -0.724424\n"
          ]
        }
      ]
    },
    {
      "cell_type": "code",
      "source": [
        "# Drop the PurchaseVolumeCategory column as it's causing issues and might not be necessary for the model\n",
        "churn_data_encoded = churn_data_encoded.drop(columns=['PurchaseVolumeCategory'], errors='ignore')\n",
        "\n",
        "# Proceed with model training"
      ],
      "metadata": {
        "id": "ZwDUr9AMjNQG"
      },
      "execution_count": 20,
      "outputs": []
    },
    {
      "cell_type": "code",
      "source": [
        "# Importing necessary libraries\n",
        "from sklearn.linear_model import LogisticRegression\n",
        "from sklearn.ensemble import RandomForestClassifier\n",
        "from xgboost import XGBClassifier\n",
        "from sklearn.metrics import classification_report, accuracy_score, roc_auc_score\n",
        "from sklearn.model_selection import train_test_split\n",
        "\n",
        "# Separate features and target\n",
        "X = churn_data_encoded.drop('Churn', axis=1)\n",
        "y = churn_data_encoded['Churn']\n",
        "\n",
        "# Split the data into training and testing sets (80% train, 20% test)\n",
        "X_train, X_test, y_train, y_test = train_test_split(X, y, test_size=0.2, random_state=42)\n",
        "\n",
        "# Initialize models\n",
        "logistic_model = LogisticRegression()\n",
        "random_forest_model = RandomForestClassifier()\n",
        "xgb_model = XGBClassifier(use_label_encoder=False, eval_metric='logloss')\n",
        "\n",
        "# Train and evaluate Logistic Regression\n",
        "logistic_model.fit(X_train, y_train)\n",
        "y_pred_logistic = logistic_model.predict(X_test)\n",
        "print(\"Logistic Regression Performance:\")\n",
        "print(classification_report(y_test, y_pred_logistic))\n",
        "print(f\"Accuracy: {accuracy_score(y_test, y_pred_logistic)}\")\n",
        "print(f\"ROC AUC: {roc_auc_score(y_test, logistic_model.predict_proba(X_test)[:, 1])}\")\n",
        "\n",
        "# Train and evaluate Random Forest\n",
        "random_forest_model.fit(X_train, y_train)\n",
        "y_pred_rf = random_forest_model.predict(X_test)\n",
        "print(\"\\nRandom Forest Performance:\")\n",
        "print(classification_report(y_test, y_pred_rf))\n",
        "print(f\"Accuracy: {accuracy_score(y_test, y_pred_rf)}\")\n",
        "print(f\"ROC AUC: {roc_auc_score(y_test, random_forest_model.predict_proba(X_test)[:, 1])}\")\n",
        "\n",
        "# Train and evaluate XGBoost\n",
        "xgb_model.fit(X_train, y_train)\n",
        "y_pred_xgb = xgb_model.predict(X_test)\n",
        "print(\"\\nXGBoost Performance:\")\n",
        "print(classification_report(y_test, y_pred_xgb))\n",
        "print(f\"Accuracy: {accuracy_score(y_test, y_pred_xgb)}\")\n",
        "print(f\"ROC AUC: {roc_auc_score(y_test, xgb_model.predict_proba(X_test)[:, 1])}\")"
      ],
      "metadata": {
        "colab": {
          "base_uri": "https://localhost:8080/"
        },
        "collapsed": true,
        "id": "-Gz4Ojlei_6B",
        "outputId": "98594a10-9d25-4e33-e502-dee2922b7b15"
      },
      "execution_count": 22,
      "outputs": [
        {
          "output_type": "stream",
          "name": "stderr",
          "text": [
            "/usr/local/lib/python3.10/dist-packages/sklearn/linear_model/_logistic.py:469: ConvergenceWarning: lbfgs failed to converge (status=1):\n",
            "STOP: TOTAL NO. of ITERATIONS REACHED LIMIT.\n",
            "\n",
            "Increase the number of iterations (max_iter) or scale the data as shown in:\n",
            "    https://scikit-learn.org/stable/modules/preprocessing.html\n",
            "Please also refer to the documentation for alternative solver options:\n",
            "    https://scikit-learn.org/stable/modules/linear_model.html#logistic-regression\n",
            "  n_iter_i = _check_optimize_result(\n",
            "/usr/local/lib/python3.10/dist-packages/sklearn/metrics/_classification.py:1531: UndefinedMetricWarning: Precision is ill-defined and being set to 0.0 in labels with no predicted samples. Use `zero_division` parameter to control this behavior.\n",
            "  _warn_prf(average, modifier, f\"{metric.capitalize()} is\", len(result))\n",
            "/usr/local/lib/python3.10/dist-packages/sklearn/metrics/_classification.py:1531: UndefinedMetricWarning: Precision is ill-defined and being set to 0.0 in labels with no predicted samples. Use `zero_division` parameter to control this behavior.\n",
            "  _warn_prf(average, modifier, f\"{metric.capitalize()} is\", len(result))\n",
            "/usr/local/lib/python3.10/dist-packages/sklearn/metrics/_classification.py:1531: UndefinedMetricWarning: Precision is ill-defined and being set to 0.0 in labels with no predicted samples. Use `zero_division` parameter to control this behavior.\n",
            "  _warn_prf(average, modifier, f\"{metric.capitalize()} is\", len(result))\n"
          ]
        },
        {
          "output_type": "stream",
          "name": "stdout",
          "text": [
            "Logistic Regression Performance:\n",
            "              precision    recall  f1-score   support\n",
            "\n",
            "           0       0.72      1.00      0.84       145\n",
            "           1       0.00      0.00      0.00        55\n",
            "\n",
            "    accuracy                           0.72       200\n",
            "   macro avg       0.36      0.50      0.42       200\n",
            "weighted avg       0.53      0.72      0.61       200\n",
            "\n",
            "Accuracy: 0.725\n",
            "ROC AUC: 0.49918495297805643\n",
            "\n",
            "Random Forest Performance:\n",
            "              precision    recall  f1-score   support\n",
            "\n",
            "           0       0.72      0.94      0.82       145\n",
            "           1       0.20      0.04      0.06        55\n",
            "\n",
            "    accuracy                           0.69       200\n",
            "   macro avg       0.46      0.49      0.44       200\n",
            "weighted avg       0.58      0.69      0.61       200\n",
            "\n",
            "Accuracy: 0.695\n",
            "ROC AUC: 0.49078369905956115\n",
            "\n",
            "XGBoost Performance:\n",
            "              precision    recall  f1-score   support\n",
            "\n",
            "           0       0.73      0.81      0.77       145\n",
            "           1       0.30      0.22      0.25        55\n",
            "\n",
            "    accuracy                           0.65       200\n",
            "   macro avg       0.52      0.51      0.51       200\n",
            "weighted avg       0.61      0.65      0.63       200\n",
            "\n",
            "Accuracy: 0.645\n",
            "ROC AUC: 0.506833855799373\n"
          ]
        },
        {
          "output_type": "stream",
          "name": "stderr",
          "text": [
            "/usr/local/lib/python3.10/dist-packages/xgboost/core.py:158: UserWarning: [00:48:55] WARNING: /workspace/src/learner.cc:740: \n",
            "Parameters: { \"use_label_encoder\" } are not used.\n",
            "\n",
            "  warnings.warn(smsg, UserWarning)\n"
          ]
        }
      ]
    },
    {
      "cell_type": "code",
      "source": [
        "from sklearn.model_selection import GridSearchCV\n",
        "\n",
        "# Define parameter grid for Random Forest\n",
        "param_grid = {\n",
        "    'n_estimators': [100, 200, 300],\n",
        "    'max_depth': [10, 20, 30],\n",
        "    'min_samples_split': [2, 5, 10]\n",
        "}\n",
        "\n",
        "# Initialize Grid Search\n",
        "grid_search_rf = GridSearchCV(estimator=RandomForestClassifier(), param_grid=param_grid, cv=5, n_jobs=-1, scoring='roc_auc')\n",
        "\n",
        "# Fit the model\n",
        "grid_search_rf.fit(X_train, y_train)\n",
        "\n",
        "# Get the best model and evaluate\n",
        "best_rf = grid_search_rf.best_estimator_\n",
        "y_pred_best_rf = best_rf.predict(X_test)\n",
        "print(\"Best Random Forest Model Performance:\")\n",
        "print(classification_report(y_test, y_pred_best_rf))\n",
        "print(f\"Best ROC AUC: {roc_auc_score(y_test, best_rf.predict_proba(X_test)[:, 1])}\")"
      ],
      "metadata": {
        "colab": {
          "base_uri": "https://localhost:8080/"
        },
        "id": "bYlibwrUjW3F",
        "outputId": "601c3dd7-9426-48aa-e86b-c2cdfe15b3f8"
      },
      "execution_count": 23,
      "outputs": [
        {
          "output_type": "stream",
          "name": "stdout",
          "text": [
            "Best Random Forest Model Performance:\n",
            "              precision    recall  f1-score   support\n",
            "\n",
            "           0       0.73      0.97      0.83       145\n",
            "           1       0.38      0.05      0.10        55\n",
            "\n",
            "    accuracy                           0.71       200\n",
            "   macro avg       0.55      0.51      0.46       200\n",
            "weighted avg       0.63      0.71      0.63       200\n",
            "\n",
            "Best ROC AUC: 0.4834482758620689\n"
          ]
        }
      ]
    },
    {
      "cell_type": "code",
      "source": [
        "from sklearn.metrics import classification_report, accuracy_score, roc_auc_score, confusion_matrix\n",
        "\n",
        "# Predict on the test set using the trained model (e.g., Random Forest)\n",
        "y_pred_rf = random_forest_model.predict(X_test)\n",
        "\n",
        "# Generate the classification report\n",
        "print(\"Random Forest Model Performance:\")\n",
        "print(classification_report(y_test, y_pred_rf))\n",
        "\n",
        "# Accuracy score\n",
        "accuracy = accuracy_score(y_test, y_pred_rf)\n",
        "print(f\"Accuracy: {accuracy}\")\n",
        "\n",
        "# Compute ROC AUC score\n",
        "roc_auc = roc_auc_score(y_test, random_forest_model.predict_proba(X_test)[:, 1])\n",
        "print(f\"ROC AUC Score: {roc_auc}\")\n",
        "\n",
        "# Confusion Matrix\n",
        "conf_matrix = confusion_matrix(y_test, y_pred_rf)\n",
        "print(f\"Confusion Matrix:\\n{conf_matrix}\")"
      ],
      "metadata": {
        "colab": {
          "base_uri": "https://localhost:8080/"
        },
        "id": "wlzBC21OjsBx",
        "outputId": "70f94531-fe49-4352-d634-d22d7223348a"
      },
      "execution_count": 24,
      "outputs": [
        {
          "output_type": "stream",
          "name": "stdout",
          "text": [
            "Random Forest Model Performance:\n",
            "              precision    recall  f1-score   support\n",
            "\n",
            "           0       0.72      0.94      0.82       145\n",
            "           1       0.20      0.04      0.06        55\n",
            "\n",
            "    accuracy                           0.69       200\n",
            "   macro avg       0.46      0.49      0.44       200\n",
            "weighted avg       0.58      0.69      0.61       200\n",
            "\n",
            "Accuracy: 0.695\n",
            "ROC AUC Score: 0.49078369905956115\n",
            "Confusion Matrix:\n",
            "[[137   8]\n",
            " [ 53   2]]\n"
          ]
        }
      ]
    },
    {
      "cell_type": "code",
      "source": [
        "import matplotlib.pyplot as plt\n",
        "import seaborn as sns\n",
        "\n",
        "# Calculate feature importances\n",
        "importances = random_forest_model.feature_importances_\n",
        "feature_names = X.columns\n",
        "feature_importance_df = pd.DataFrame({'Feature': feature_names, 'Importance': importances}).sort_values(by='Importance', ascending=False)\n",
        "\n",
        "# Display the feature importances\n",
        "print(feature_importance_df)\n",
        "\n",
        "# Plot the feature importances\n",
        "plt.figure(figsize=(10,6))\n",
        "sns.barplot(x='Importance', y='Feature', data=feature_importance_df)\n",
        "plt.title('Feature Importance - Random Forest')\n",
        "plt.show()"
      ],
      "metadata": {
        "colab": {
          "base_uri": "https://localhost:8080/",
          "height": 778
        },
        "id": "Alt8Nv3Yj2Vy",
        "outputId": "63ecd9d7-4cd2-4fa3-ff78-7ccb0dd2bbe7"
      },
      "execution_count": 27,
      "outputs": [
        {
          "output_type": "stream",
          "name": "stdout",
          "text": [
            "                   Feature  Importance\n",
            "0               CustomerID    0.210323\n",
            "10     AvgPurchasePerMonth    0.201487\n",
            "2    MonthlyPurchaseVolume    0.192462\n",
            "1           ContractLength    0.146475\n",
            "4       CustomerComplaints    0.109346\n",
            "3        DiscountsProvided    0.026713\n",
            "8      CustomerType_Retail    0.024682\n",
            "9   CustomerType_Wholesale    0.024389\n",
            "6             Region_South    0.022441\n",
            "7              Region_West    0.021953\n",
            "5             Region_North    0.019728\n"
          ]
        },
        {
          "output_type": "display_data",
          "data": {
            "text/plain": [
              "<Figure size 1000x600 with 1 Axes>"
            ],
            "image/png": "[encoded data removed]"
          },
          "metadata": {}
        }
      ]
    },
    {
      "cell_type": "code",
      "source": [
        "from sklearn.model_selection import GridSearchCV\n",
        "\n",
        "# Define the hyperparameter grid for Random Forest\n",
        "param_grid = {\n",
        "    'n_estimators': [100, 200, 300],  # Number of trees\n",
        "    'max_depth': [10, 20, 30],  # Depth of each tree\n",
        "    'min_samples_split': [2, 5, 10],  # Minimum samples required to split a node\n",
        "    'min_samples_leaf': [1, 2, 4],  # Minimum samples required to be a leaf node\n",
        "    'bootstrap': [True, False]  # Whether to use bootstrap sampling\n",
        "}\n",
        "\n",
        "# Initialize GridSearchCV\n",
        "grid_search = GridSearchCV(estimator=RandomForestClassifier(), param_grid=param_grid, cv=5, n_jobs=-1, scoring='roc_auc', verbose=2)\n",
        "\n",
        "# Fit the model\n",
        "grid_search.fit(X_train, y_train)\n",
        "\n",
        "# Get the best model with optimal hyperparameters\n",
        "best_rf_model = grid_search.best_estimator_\n",
        "\n",
        "# Evaluate the best model\n",
        "y_pred_best_rf = best_rf_model.predict(X_test)\n",
        "print(\"Best Random Forest Model Performance:\")\n",
        "print(classification_report(y_test, y_pred_best_rf))\n",
        "print(f\"Best ROC AUC: {roc_auc_score(y_test, best_rf_model.predict_proba(X_test)[:, 1])}\")"
      ],
      "metadata": {
        "colab": {
          "base_uri": "https://localhost:8080/"
        },
        "id": "7RUrzHNzkDY2",
        "outputId": "77d7b716-97fd-488f-970f-da6c1fada8e7"
      },
      "execution_count": 28,
      "outputs": [
        {
          "output_type": "stream",
          "name": "stdout",
          "text": [
            "Fitting 5 folds for each of 162 candidates, totalling 810 fits\n",
            "Best Random Forest Model Performance:\n",
            "              precision    recall  f1-score   support\n",
            "\n",
            "           0       0.72      0.90      0.80       145\n",
            "           1       0.22      0.07      0.11        55\n",
            "\n",
            "    accuracy                           0.68       200\n",
            "   macro avg       0.47      0.49      0.46       200\n",
            "weighted avg       0.58      0.68      0.61       200\n",
            "\n",
            "Best ROC AUC: 0.5136050156739812\n"
          ]
        }
      ]
    },
    {
      "cell_type": "code",
      "source": [
        "param_grid_xgb = {\n",
        "    'n_estimators': [100, 200, 300],\n",
        "    'max_depth': [3, 6, 9],\n",
        "    'learning_rate': [0.01, 0.1, 0.2],\n",
        "    'subsample': [0.8, 1.0]\n",
        "}\n",
        "\n",
        "grid_search_xgb = GridSearchCV(estimator=XGBClassifier(use_label_encoder=False, eval_metric='logloss'),\n",
        "                               param_grid=param_grid_xgb, cv=5, n_jobs=-1, scoring='roc_auc', verbose=2)\n",
        "\n",
        "grid_search_xgb.fit(X_train, y_train)\n",
        "\n",
        "# Get the best XGBoost model\n",
        "best_xgb_model = grid_search_xgb.best_estimator_\n",
        "\n",
        "# Evaluate the best XGBoost model\n",
        "y_pred_best_xgb = best_xgb_model.predict(X_test)\n",
        "print(\"Best XGBoost Model Performance:\")\n",
        "print(classification_report(y_test, y_pred_best_xgb))\n",
        "print(f\"Best ROC AUC: {roc_auc_score(y_test, best_xgb_model.predict_proba(X_test)[:, 1])}\")"
      ],
      "metadata": {
        "colab": {
          "base_uri": "https://localhost:8080/"
        },
        "id": "wThcKurxkMR9",
        "outputId": "87a19ee7-92e5-4ffa-d7e8-0497a48f6ab0"
      },
      "execution_count": 29,
      "outputs": [
        {
          "output_type": "stream",
          "name": "stdout",
          "text": [
            "Fitting 5 folds for each of 54 candidates, totalling 270 fits\n",
            "Best XGBoost Model Performance:\n",
            "              precision    recall  f1-score   support\n",
            "\n",
            "           0       0.73      0.82      0.77       145\n",
            "           1       0.30      0.20      0.24        55\n",
            "\n",
            "    accuracy                           0.65       200\n",
            "   macro avg       0.51      0.51      0.51       200\n",
            "weighted avg       0.61      0.65      0.63       200\n",
            "\n",
            "Best ROC AUC: 0.46796238244514105\n"
          ]
        },
        {
          "output_type": "stream",
          "name": "stderr",
          "text": [
            "/usr/local/lib/python3.10/dist-packages/xgboost/core.py:158: UserWarning: [00:59:50] WARNING: /workspace/src/learner.cc:740: \n",
            "Parameters: { \"use_label_encoder\" } are not used.\n",
            "\n",
            "  warnings.warn(smsg, UserWarning)\n"
          ]
        }
      ]
    },
    {
      "cell_type": "code",
      "source": [
        "from sklearn.model_selection import cross_val_score\n",
        "\n",
        "# Perform cross-validation with the best model\n",
        "cv_scores = cross_val_score(best_rf_model, X_train, y_train, cv=5, scoring='roc_auc')\n",
        "\n",
        "# Display cross-validation results\n",
        "print(f\"Cross-Validation ROC AUC Scores: {cv_scores}\")\n",
        "print(f\"Mean ROC AUC Score: {cv_scores.mean()}\")"
      ],
      "metadata": {
        "colab": {
          "base_uri": "https://localhost:8080/"
        },
        "id": "zaOTrcQykOml",
        "outputId": "55ad783a-9be5-4b9c-a988-0fd60cf86186"
      },
      "execution_count": 30,
      "outputs": [
        {
          "output_type": "stream",
          "name": "stdout",
          "text": [
            "Cross-Validation ROC AUC Scores: [0.56127273 0.43281818 0.5        0.53063636 0.50468836]\n",
            "Mean ROC AUC Score: 0.5058831269116983\n"
          ]
        }
      ]
    },
    {
      "cell_type": "code",
      "source": [
        "import joblib\n",
        "\n",
        "# Save the best model to a file\n",
        "joblib.dump(best_rf_model, 'customer_churn_model.pkl')\n",
        "\n",
        "# To load the model later:\n",
        "loaded_model = joblib.load('customer_churn_model.pkl')\n",
        "\n",
        "# Make predictions with the loaded model\n",
        "y_pred = loaded_model.predict(X_test)"
      ],
      "metadata": {
        "id": "2ppygMSNl0sq"
      },
      "execution_count": 31,
      "outputs": []
    },
    {
      "cell_type": "code",
      "source": [
        "import pandas as pd\n",
        "\n",
        "# Define the new record to match the expected feature names\n",
        "new_record = {\n",
        "    \"CustomerID\": 12345,  # Replace with actual ID or use placeholder\n",
        "    \"ContractLength\": 12,\n",
        "    \"MonthlyPurchaseVolume\": 5000,\n",
        "    \"DiscountsProvided\": 1,\n",
        "    \"CustomerComplaints\": 2,\n",
        "    \"Region_North\": 1,  # One-hot encoded value, e.g., North = 1, others = 0\n",
        "    \"Region_South\": 0,\n",
        "    \"Region_West\": 0,\n",
        "    \"CustomerType_Retail\": 1,  # One-hot encoded value, Retail = 1, Wholesale = 0\n",
        "    \"CustomerType_Wholesale\": 0,\n",
        "    \"AvgPurchasePerMonth\": 416.67  # Adjust this based on actual calculation\n",
        "}\n",
        "\n",
        "# Convert the dictionary into a DataFrame\n",
        "new_record_df = pd.DataFrame([new_record])\n",
        "\n",
        "# Display the DataFrame (optional)\n",
        "print(new_record_df)"
      ],
      "metadata": {
        "colab": {
          "base_uri": "https://localhost:8080/"
        },
        "id": "ZcvQgqF0r4h4",
        "outputId": "a93558b2-9797-4fbf-97dd-45d7170c8e09"
      },
      "execution_count": 37,
      "outputs": [
        {
          "output_type": "stream",
          "name": "stdout",
          "text": [
            "   CustomerID  ContractLength  MonthlyPurchaseVolume  DiscountsProvided  \\\n",
            "0       12345              12                   5000                  1   \n",
            "\n",
            "   CustomerComplaints  Region_North  Region_South  Region_West  \\\n",
            "0                   2             1             0            0   \n",
            "\n",
            "   CustomerType_Retail  CustomerType_Wholesale  AvgPurchasePerMonth  \n",
            "0                    1                       0               416.67  \n"
          ]
        }
      ]
    },
    {
      "cell_type": "code",
      "source": [
        "prediction = model.predict(new_record_df)\n",
        "\n",
        "# Print the result: 1 for churn, 0 for no churn\n",
        "print(f\"Prediction: {'Churn' if prediction[0] == 1 else 'No Churn'}\")\n",
        "\n",
        "# Optionally, print the probability of churn\n",
        "probabilities = model.predict_proba(new_record_df)\n",
        "print(f\"Probability of No Churn: {probabilities[0][0]}\")\n",
        "print(f\"Probability of Churn: {probabilities[0][1]}\")"
      ],
      "metadata": {
        "colab": {
          "base_uri": "https://localhost:8080/"
        },
        "id": "mYwAgXO5r5a8",
        "outputId": "969a598e-f985-4185-f9ac-1109df76a5a2"
      },
      "execution_count": 38,
      "outputs": [
        {
          "output_type": "stream",
          "name": "stdout",
          "text": [
            "Prediction: No Churn\n",
            "Probability of No Churn: 0.58\n",
            "Probability of Churn: 0.42\n"
          ]
        }
      ]
    }
  ]
}